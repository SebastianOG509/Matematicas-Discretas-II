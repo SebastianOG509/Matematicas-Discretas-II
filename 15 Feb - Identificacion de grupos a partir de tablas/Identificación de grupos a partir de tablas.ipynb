{
 "cells": [
  {
   "cell_type": "markdown",
   "id": "581b883c",
   "metadata": {},
   "source": [
    "# Identificación de grupos a partir de tablas\n",
    "## Sebastian Ortiz Gonzalez\n",
    "## Matematicas Discretas II"
   ]
  },
  {
   "cell_type": "markdown",
   "id": "cff14326",
   "metadata": {},
   "source": [
    "Tenemos que crear un código, el cual nos permite determinar si una tabla es un grupo y/o una tabla latina para ello primero debemos capturar los datos de una tabla y guardarlos en una estructura que podamos verificar."
   ]
  },
  {
   "cell_type": "markdown",
   "id": "5a9a3c66",
   "metadata": {},
   "source": [
    "Lo primero que haremos, es pedirle al usuario que ingrese los elementos separados por espacios:"
   ]
  },
  {
   "cell_type": "code",
   "execution_count": 1,
   "id": "8ed542cd",
   "metadata": {},
   "outputs": [
    {
     "name": "stdout",
     "output_type": "stream",
     "text": [
      "Ingrese los elementos del conjunto separados por espacios: e a b c\n",
      "['e', 'a', 'b', 'c']\n"
     ]
    }
   ],
   "source": [
    "elementos = list(map(str, input(\"Ingrese los elementos del conjunto separados por espacios: \").split()))\n",
    "print(elementos)"
   ]
  },
  {
   "cell_type": "markdown",
   "id": "c6c90b56",
   "metadata": {},
   "source": [
    "Ahora se le pide al usuario el resultado de realizar la operacion binaria entre los elementos:"
   ]
  },
  {
   "cell_type": "code",
   "execution_count": 4,
   "id": "df94033d",
   "metadata": {
    "scrolled": false
   },
   "outputs": [
    {
     "name": "stdout",
     "output_type": "stream",
     "text": [
      "Ingrese el resultado de aplicar la operación binaria al elemento e y al elemento e: e\n",
      "Ingrese el resultado de aplicar la operación binaria al elemento e y al elemento a: a\n",
      "Ingrese el resultado de aplicar la operación binaria al elemento e y al elemento b: b\n",
      "Ingrese el resultado de aplicar la operación binaria al elemento e y al elemento c: c\n",
      "Ingrese el resultado de aplicar la operación binaria al elemento a y al elemento e: a\n",
      "Ingrese el resultado de aplicar la operación binaria al elemento a y al elemento a: e\n",
      "Ingrese el resultado de aplicar la operación binaria al elemento a y al elemento b: c\n",
      "Ingrese el resultado de aplicar la operación binaria al elemento a y al elemento c: b\n",
      "Ingrese el resultado de aplicar la operación binaria al elemento b y al elemento e: b\n",
      "Ingrese el resultado de aplicar la operación binaria al elemento b y al elemento a: c\n",
      "Ingrese el resultado de aplicar la operación binaria al elemento b y al elemento b: e\n",
      "Ingrese el resultado de aplicar la operación binaria al elemento b y al elemento c: a\n",
      "Ingrese el resultado de aplicar la operación binaria al elemento c y al elemento e: c\n",
      "Ingrese el resultado de aplicar la operación binaria al elemento c y al elemento a: b\n",
      "Ingrese el resultado de aplicar la operación binaria al elemento c y al elemento b: a\n",
      "Ingrese el resultado de aplicar la operación binaria al elemento c y al elemento c: e\n",
      "La matriz de resultados de la operación binaria es:\n",
      "e a b c \n",
      "a e c b \n",
      "b c e a \n",
      "c b a e \n"
     ]
    }
   ],
   "source": [
    "dicc_operaciones = {}\n",
    "tabla = [[0 for i in range(len(elementos))] for j in range(len(elementos))]\n",
    "for i in range(len(elementos)):\n",
    "    for j in range(len(elementos)):\n",
    "        tabla[i][j] = input(\"Ingrese el resultado de aplicar la operación binaria al elemento {} y al elemento {}: \".format(elementos[i], elementos[j]))\n",
    "        dicc_operaciones[str(elementos[i]),str(elementos[j])]=str(tabla[i][j])\n",
    "\n",
    "\n",
    "print(\"La matriz de resultados de la operación binaria es:\")\n",
    "for i in range(len(elementos)):\n",
    "    for j in range(len(elementos)):\n",
    "        print(tabla[i][j], end=\" \")\n",
    "    print()"
   ]
  },
  {
   "cell_type": "markdown",
   "id": "501eeb4b",
   "metadata": {},
   "source": [
    "Ahora verificamos que la operacion sea cerrada:"
   ]
  },
  {
   "cell_type": "code",
   "execution_count": 5,
   "id": "8b3efec3",
   "metadata": {},
   "outputs": [
    {
     "name": "stdout",
     "output_type": "stream",
     "text": [
      "La operacion es cerrada\n"
     ]
    }
   ],
   "source": [
    "cerrada = True\n",
    "for i in range(len(elementos)):\n",
    "    for j in range(len(elementos)):\n",
    "        if tabla[i][j] not in elementos:\n",
    "            cerrada = False\n",
    "\n",
    "if cerrada:\n",
    "    print(\"La operacion es cerrada\")\n",
    "else:\n",
    "    print(\"La operacion no es cerrada\")"
   ]
  },
  {
   "cell_type": "markdown",
   "id": "64aafe7a",
   "metadata": {},
   "source": [
    "Lo siguiente que verificaremos, es si la operacion es asociativa:"
   ]
  },
  {
   "cell_type": "code",
   "execution_count": 13,
   "id": "38f74c04",
   "metadata": {},
   "outputs": [
    {
     "name": "stdout",
     "output_type": "stream",
     "text": [
      "La operación es asociativa.\n"
     ]
    }
   ],
   "source": [
    "asociativa = True\n",
    "for i in range(len(elementos)):\n",
    "    for j in range(len(elementos)):\n",
    "        for k in range(len(elementos)):\n",
    "            if (tabla[i][j] in elementos and tabla[j][k] in elementos):\n",
    "                resultado1 = dicc_operaciones[tabla[i][j], tabla[j][k]]\n",
    "            else:\n",
    "                resultado1 = None\n",
    "            if (tabla[j][k] in elementos and tabla[i][j] in elementos):\n",
    "                resultado2 = dicc_operaciones[tabla[j][k], tabla[i][j]]\n",
    "            else:\n",
    "                resultado2 = None\n",
    "            if resultado1 != resultado2:\n",
    "                asociativa = False\n",
    "                break\n",
    "        if not asociativa:\n",
    "            break\n",
    "    if not asociativa:\n",
    "        break\n",
    "\n",
    "if asociativa:\n",
    "    print(\"La operación es asociativa.\")\n",
    "else:\n",
    "    print(\"La operación no es asociativa.\")"
   ]
  },
  {
   "cell_type": "markdown",
   "id": "99622940",
   "metadata": {},
   "source": [
    "Lo siguiente que verificaremos, es si la operacion es si existe el elemento neutro:"
   ]
  },
  {
   "cell_type": "code",
   "execution_count": 8,
   "id": "a22b0aa2",
   "metadata": {
    "scrolled": true
   },
   "outputs": [
    {
     "name": "stdout",
     "output_type": "stream",
     "text": [
      "El elemento neutro es: e\n"
     ]
    }
   ],
   "source": [
    "neutros = []\n",
    "for i in range(len(elementos)):\n",
    "    for j in range(len(elementos)):\n",
    "        if dicc_operaciones[str(elementos[i]),str(elementos[j])]==str(elementos[i]):\n",
    "            neutros.append(elementos[j])\n",
    "\n",
    "neutro = True\n",
    "ele_neutro = None\n",
    "for i in range(len(neutros)):\n",
    "    if neutros[0]!= neutros[i]:\n",
    "        neutro = False\n",
    "\n",
    "if neutro:\n",
    "    ele_neutro = neutros[0]\n",
    "    print('El elemento neutro es:',ele_neutro)\n",
    "else:\n",
    "    print('No hay elemento neutro')"
   ]
  },
  {
   "cell_type": "markdown",
   "id": "d2e90893",
   "metadata": {},
   "source": [
    "Lo siguiente que verificaremos, es si la operacion es si existen elemetos inversos:"
   ]
  },
  {
   "cell_type": "code",
   "execution_count": 9,
   "id": "f05c51b4",
   "metadata": {},
   "outputs": [
    {
     "name": "stdout",
     "output_type": "stream",
     "text": [
      "Si hay elementos inversos, son: ['e', 'a', 'b', 'c']\n"
     ]
    }
   ],
   "source": [
    "inversos = []\n",
    "inverso = False\n",
    "for i in range(len(elementos)):\n",
    "    for j in range(len(elementos)):\n",
    "        if dicc_operaciones[str(elementos[i]),str(elementos[j])]==str(ele_neutro):\n",
    "            inversos.append(elementos[j])   \n",
    "\n",
    "if len(inversos) == len(elementos):\n",
    "    inverso = True\n",
    "    print('Si hay elementos inversos, son:', inversos)\n",
    "else:\n",
    "    print('No hay elementos inversos')"
   ]
  },
  {
   "cell_type": "markdown",
   "id": "7da55aed",
   "metadata": {},
   "source": [
    "Por ultimo, determinamos si es grupo y/ cuadrado perfecto:"
   ]
  },
  {
   "cell_type": "code",
   "execution_count": 12,
   "id": "8e462f97",
   "metadata": {},
   "outputs": [
    {
     "name": "stdout",
     "output_type": "stream",
     "text": [
      "Si es un grupo\n",
      "Es un cuadrado latino\n"
     ]
    }
   ],
   "source": [
    "if cerrada & asociativa & neutro & inverso:\n",
    "    print('Si es un grupo')\n",
    "else:\n",
    "    print('No es un grupo')\n",
    "\n",
    "es_cuadrado_latino = True\n",
    "for i in range(len(elementos)):\n",
    "    if set(tabla[i]) != set(elementos):\n",
    "        es_cuadrado_latino = False\n",
    "        break\n",
    "    if set([tabla[j][i] for j in range(len(elementos))]) != set(elementos):\n",
    "        es_cuadrado_latino = False\n",
    "        break\n",
    "\n",
    "if es_cuadrado_latino:\n",
    "    print('Es un cuadrado latino')\n",
    "else:\n",
    "    print('No es un cuadrado latino')"
   ]
  }
 ],
 "metadata": {
  "kernelspec": {
   "display_name": "Python 3 (ipykernel)",
   "language": "python",
   "name": "python3"
  },
  "language_info": {
   "codemirror_mode": {
    "name": "ipython",
    "version": 3
   },
   "file_extension": ".py",
   "mimetype": "text/x-python",
   "name": "python",
   "nbconvert_exporter": "python",
   "pygments_lexer": "ipython3",
   "version": "3.11.0"
  }
 },
 "nbformat": 4,
 "nbformat_minor": 5
}
