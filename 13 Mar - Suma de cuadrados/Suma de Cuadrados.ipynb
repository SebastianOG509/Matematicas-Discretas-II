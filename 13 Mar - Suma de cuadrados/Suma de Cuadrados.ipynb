{
 "cells": [
  {
   "cell_type": "markdown",
   "id": "c8b590f1",
   "metadata": {},
   "source": [
    "# Expresión de un número como la suma de la menor cantidad de cuadrados.\n",
    "## Sebastian Ortiz Gonzalez"
   ]
  },
  {
   "cell_type": "markdown",
   "id": "57ca32ee",
   "metadata": {},
   "source": [
    "Tenemos que crear un código para expresar un número como una suma de cuadrados, usando la menor cantidad de cuadrados. El programa calcula la cantidad mínima de cuadrados enteros necesarios para expresar un número dado n como una suma de cuadrados. La idea principal del programa es usar una función recursiva que busque todas las posibles combinaciones de cuadrados enteros que sumen n, y devolver la cantidad mínima de cuadrados necesarios."
   ]
  },
  {
   "cell_type": "code",
   "execution_count": null,
   "id": "3dc385af",
   "metadata": {},
   "outputs": [
    {
     "name": "stdout",
     "output_type": "stream",
     "text": [
      "Ingrese un número n: 97\n"
     ]
    }
   ],
   "source": [
    "n = int(input(\"Ingrese un número n: \"))\n",
    "# Definimos la función que calcula la cantidad mínima de enteros al cuadrado para representar un número n\n",
    "def suma_cuadrados(n):\n",
    "  if n == 0 or n == 1:\n",
    "    return n\n",
    "  else:\n",
    "    resultados = []   # Lista vacía para almacenar los posibles resultados\n",
    "    #Recorremos hasta la raíz cuadrada de n ya que en dado caso que los números anteriores a la raíz de n\n",
    "    #no cumplan con que al sumarse den n, solo la raíz de n la cumple \n",
    "    for i in range(1, int(n**0.5) + 1):\n",
    "      # Calcular el resto de dividir n entre i^2\n",
    "      resto = n - i**2\n",
    "      resultado = suma_cuadrados(resto) + 1\n",
    "      # Añadir el resultado a la lista de posibles resultados\n",
    "      resultados.append(resultado)\n",
    "    # Devolver el mínimo de la lista de posibles resultados como resultado final\n",
    "    return min(resultados)\n",
    "print(suma_cuadrados(n))"
   ]
  },
  {
   "cell_type": "code",
   "execution_count": null,
   "id": "c5594900",
   "metadata": {},
   "outputs": [],
   "source": []
  },
  {
   "cell_type": "code",
   "execution_count": null,
   "id": "e6719d95",
   "metadata": {},
   "outputs": [],
   "source": []
  }
 ],
 "metadata": {
  "kernelspec": {
   "display_name": "Python 3 (ipykernel)",
   "language": "python",
   "name": "python3"
  },
  "language_info": {
   "codemirror_mode": {
    "name": "ipython",
    "version": 3
   },
   "file_extension": ".py",
   "mimetype": "text/x-python",
   "name": "python",
   "nbconvert_exporter": "python",
   "pygments_lexer": "ipython3",
   "version": "3.11.0"
  }
 },
 "nbformat": 4,
 "nbformat_minor": 5
}
