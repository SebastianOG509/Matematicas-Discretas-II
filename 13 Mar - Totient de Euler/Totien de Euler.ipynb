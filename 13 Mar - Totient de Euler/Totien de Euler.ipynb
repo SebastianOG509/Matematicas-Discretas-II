{
 "cells": [
  {
   "cell_type": "code",
   "execution_count": 8,
   "id": "9668bfdd",
   "metadata": {},
   "outputs": [],
   "source": [
    "# primero es necesario tener una funcion que descomponga el numnero n en factores primos\n",
    "def descomponerPrimos(n): \n",
    "    exponente = 0\n",
    "    i=2\n",
    "    factores =[]\n",
    "    while(n>1):\n",
    "        while(n%i==0):\n",
    "            exponente+=1 \n",
    "            n=n/i \n",
    "        if exponente>0:\n",
    "            factores.append([i,exponente]) \n",
    "        exponente=0 \n",
    "        i+=1 \n",
    "    return factores"
   ]
  },
  {
   "cell_type": "code",
   "execution_count": 9,
   "id": "984d5483",
   "metadata": {},
   "outputs": [],
   "source": [
    "# Esta funcion devuelve el phi de Euler para el numero n \n",
    "def phiEuler(n):\n",
    "    if(n==1):\n",
    "        return 1\n",
    "    descomposicion = descomponerPrimos(n)\n",
    "    resultado = 1\n",
    "    for i in descomposicion:\n",
    "        resultado = resultado * ((i[0]**i[1]) - (i[0]**(i[1]-1)))\n",
    "    return resultado"
   ]
  },
  {
   "cell_type": "code",
   "execution_count": 10,
   "id": "af82071b",
   "metadata": {},
   "outputs": [],
   "source": [
    "def fun(i,k,m):\n",
    "    return m[i+1][k+1]"
   ]
  },
  {
   "cell_type": "code",
   "execution_count": 11,
   "id": "6a2e5d84",
   "metadata": {},
   "outputs": [],
   "source": [
    "#matriz, matriz con fila y columna [0] como labels y el resto son las relaciones \n",
    "def GeneradoresLargo(matriz):\n",
    "    elementosDelConjunto = matriz[0][1:]\n",
    "    conjuntoOriginal = set() \n",
    "    conjuntoOriginal.update(elementosDelConjunto) \n",
    "    generadores = 0; \n",
    "    for i in elementosDelConjunto:\n",
    "        generado = set()\n",
    "        resultado = fun(i, i, matriz) \n",
    "        generado.add(resultado)\n",
    "        while resultado!=i:\n",
    "            resultado = fun(i,resultado, matriz)\n",
    "            generado.add(resultado)\n",
    "        if(conjuntoOriginal == generado):\n",
    "            generadores+=1\n",
    "    return(generadores)"
   ]
  },
  {
   "cell_type": "code",
   "execution_count": 12,
   "id": "d522d517",
   "metadata": {},
   "outputs": [],
   "source": [
    "def GeneradoresTotien(matriz):\n",
    "    return phiEuler(len(matriz[0])-1)"
   ]
  },
  {
   "cell_type": "code",
   "execution_count": 13,
   "id": "3098da5d",
   "metadata": {},
   "outputs": [],
   "source": [
    "# se crea una tabla para simular la relacion de los elementos \n",
    "def Matriz(a):\n",
    "    b=[]\n",
    "    for i in range (a):\n",
    "        c=[]\n",
    "        for j in range(a):\n",
    "            if (j==0):\n",
    "                c.append(i)\n",
    "            c.append((i+j) % a)\n",
    "        if(i==0):\n",
    "            b.append(c)\n",
    "        b.append(c)\n",
    "    return b"
   ]
  },
  {
   "cell_type": "code",
   "execution_count": 15,
   "id": "33656d2b",
   "metadata": {},
   "outputs": [
    {
     "name": "stdout",
     "output_type": "stream",
     "text": [
      "5000: la:2000 tiempo:2.898487091064453 tp:2000 tiempo:0.0\n",
      "6000: la:1600 tiempo:3.721497058868408 tp:1600 tiempo:0.0010106563568115234\n",
      "7000: la:2400 tiempo:5.1084816455841064 tp:2400 tiempo:0.0\n",
      "8000: la:3200 tiempo:7.061068058013916 tp:3200 tiempo:0.0\n",
      "9000: la:2400 tiempo:7.376583814620972 tp:2400 tiempo:0.0\n",
      "10000: la:4000 tiempo:10.786885023117065 tp:4000 tiempo:0.0\n"
     ]
    }
   ],
   "source": [
    "import time\n",
    "# se busca la cantidad de generadores ciclicos para conjuntos de 1000, 2000, ... , 9000 y 10000 elementos y se muestran \n",
    "# los resultados con el metodo de verificacion elemento por elemento y con el totient de Euler, se imprimen los resultados y los tiempos \n",
    "\n",
    "for i in range (5000,10001,1000):\n",
    "    a=Matriz(i)\n",
    "    \n",
    "    inicio = time.time()\n",
    "    l = GeneradoresLargo(a)\n",
    "    fin = time.time()\n",
    "    tiempoMetodoLargo=fin-inicio\n",
    "    \n",
    "    inicio = time.time()\n",
    "    t= GeneradoresTotien(a)\n",
    "    fin = time.time()\n",
    "    tiempoMetodoTotien=fin -inicio\n",
    "    \n",
    "    print(f\"{i}: la:{l} tiempo:{tiempoMetodoLargo} tp:{t} tiempo:{tiempoMetodoTotien}\")"
   ]
  },
  {
   "cell_type": "code",
   "execution_count": null,
   "id": "e5230a5d",
   "metadata": {},
   "outputs": [],
   "source": []
  }
 ],
 "metadata": {
  "kernelspec": {
   "display_name": "Python 3 (ipykernel)",
   "language": "python",
   "name": "python3"
  },
  "language_info": {
   "codemirror_mode": {
    "name": "ipython",
    "version": 3
   },
   "file_extension": ".py",
   "mimetype": "text/x-python",
   "name": "python",
   "nbconvert_exporter": "python",
   "pygments_lexer": "ipython3",
   "version": "3.11.0"
  }
 },
 "nbformat": 4,
 "nbformat_minor": 5
}
