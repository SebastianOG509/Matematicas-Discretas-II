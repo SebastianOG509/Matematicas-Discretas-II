{
 "cells": [
  {
   "cell_type": "code",
   "execution_count": 1,
   "id": "d63a10c7",
   "metadata": {},
   "outputs": [],
   "source": [
    "import math\n",
    "import copy\n",
    "from itertools import combinations"
   ]
  },
  {
   "cell_type": "code",
   "execution_count": 19,
   "id": "efac5575",
   "metadata": {},
   "outputs": [
    {
     "name": "stdout",
     "output_type": "stream",
     "text": [
      "(578, 25)\n",
      "[25]\n",
      "[578, 24, 4, 2, 5, 2]\n",
      "\n"
     ]
    }
   ],
   "source": [
    "def simplificarCuadrado(d):\n",
    "    for j in range(2, len(d)+1):\n",
    "        for combo in combinations(d, j):\n",
    "            suma=0\n",
    "            mat =[]\n",
    "            print(combo)\n",
    "            for i in range (len(combo)-1,-1,-1):\n",
    "                mat.append(combo[i])\n",
    "                suma+=combo[i]**2\n",
    "                a = descomponerEnCuadrados(suma);\n",
    "                print(a)\n",
    "            print(\"\")\n",
    "    \n",
    "simplificarCuadrado([578,25])"
   ]
  },
  {
   "cell_type": "code",
   "execution_count": 9,
   "id": "b1162d88",
   "metadata": {
    "scrolled": false
   },
   "outputs": [],
   "source": [
    "def simplificateOnes(d):\n",
    "    original=copy.copy(d)\n",
    "    c=0\n",
    "    index = len(d)-1\n",
    "    nuevo=[]\n",
    "    while (index >= 0 and d[index] == 1):\n",
    "        c+=1\n",
    "        d.pop(index)\n",
    "        index=index-1\n",
    "    if(c > 3):\n",
    "        nuevo = descomponerEnCuadrados(c)\n",
    "        d.extend(nuevo)\n",
    "    else:\n",
    "        d=original\n",
    "    #print(\"nu \",nuevo)\n",
    "    if(original!=d and len(d)>0):\n",
    "        d=simplificateOnes(d)\n",
    "    return(d)   "
   ]
  },
  {
   "cell_type": "code",
   "execution_count": 16,
   "id": "8ea82682",
   "metadata": {
    "scrolled": true
   },
   "outputs": [
    {
     "name": "stdout",
     "output_type": "stream",
     "text": [
      "[24, 1, 1]\n"
     ]
    }
   ],
   "source": [
    "def descomponerEnCuadrados(n):\n",
    "    c=n\n",
    "    suma=0\n",
    "    descomposicion = []\n",
    "    while suma<n:\n",
    "        c = math.floor(math.sqrt(c))\n",
    "        nexto = suma + c**2\n",
    "        if(nexto <= n):\n",
    "            suma=nexto\n",
    "            descomposicion.append(c)\n",
    "        #print(f\"n: {nexto}, c:{c}, suma: {suma}\")\n",
    "    #print(\"simplificando \", descomposicion)\n",
    "    descomposicion = simplificateOnes(descomposicion)\n",
    "    #simplificarCuadrado(descomposicion)\n",
    "    return descomposicion\n",
    "\n",
    "print(descomponerEnCuadrados(578))"
   ]
  },
  {
   "cell_type": "code",
   "execution_count": null,
   "id": "6c1bc67d",
   "metadata": {},
   "outputs": [],
   "source": []
  }
 ],
 "metadata": {
  "kernelspec": {
   "display_name": "Python 3 (ipykernel)",
   "language": "python",
   "name": "python3"
  },
  "language_info": {
   "codemirror_mode": {
    "name": "ipython",
    "version": 3
   },
   "file_extension": ".py",
   "mimetype": "text/x-python",
   "name": "python",
   "nbconvert_exporter": "python",
   "pygments_lexer": "ipython3",
   "version": "3.11.0"
  }
 },
 "nbformat": 4,
 "nbformat_minor": 5
}
